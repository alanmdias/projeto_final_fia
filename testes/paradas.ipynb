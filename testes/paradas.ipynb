{
 "cells": [
  {
   "cell_type": "code",
   "execution_count": 55,
   "metadata": {},
   "outputs": [],
   "source": [
    "import requests\n",
    "import time\n",
    "import pandas as pd\n",
    "import json\n",
    "from typing import Optional"
   ]
  },
  {
   "cell_type": "code",
   "execution_count": 2,
   "metadata": {},
   "outputs": [],
   "source": [
    "# Gerar lista com todas os números (não os códigos únicos) das linhas\n",
    "#df_gtfs_linhas = pd.read_csv(r'gtfs/routes.txt')\n",
    "#numero_linhas = list(set(df_gtfs_linhas['route_id'].to_list()))"
   ]
  },
  {
   "cell_type": "code",
   "execution_count": 38,
   "metadata": {},
   "outputs": [
    {
     "name": "stdout",
     "output_type": "stream",
     "text": [
      "Autenticação realizada com sucesso!\n"
     ]
    }
   ],
   "source": [
    "h = time.strftime(\"%H:%M\")\n",
    "\n",
    "# Defina o token de acesso\n",
    "token = \"c7014553669e9dc53bf808f07a85f3fa0ac0eea3db93451487735b128b8e175e\"\n",
    "\n",
    "# Iniciar uma sessão\n",
    "session = requests.Session()\n",
    "\n",
    "# Autenticação na API\n",
    "auth_url = \"http://api.olhovivo.sptrans.com.br/v2.1/Login/Autenticar\"\n",
    "auth_params = {\"token\": token}\n",
    "auth_response = session.post(auth_url, params=auth_params)\n",
    "\n",
    "# Verifica se a autenticação foi bem-sucedida\n",
    "if auth_response.text == \"true\":\n",
    "    print(\"Autenticação realizada com sucesso!\")\n",
    "else:\n",
    "    print(\"Falha na autenticação:\", auth_response.text)"
   ]
  },
  {
   "cell_type": "code",
   "execution_count": 56,
   "metadata": {},
   "outputs": [],
   "source": [
    "base_url = \"http://api.olhovivo.sptrans.com.br/v2.1\"\n",
    "path_auth = \"Login/Autenticar\"\n",
    "categoria = \"Parada\"\n",
    "metodo = \"Buscar\"\n",
    "sufix_parametro = \"termosBusca\"\n",
    "parametro = \"Clínicas\"\n",
    "\n",
    "def gerar_path(base, categoria, metodo, sufix, parametro: Optional[str] = \"\"):\n",
    "    path = base + \"/\" + categoria + \"/\" + metodo + \"?\" + sufix + \"=\" + parametro\n",
    "    return path"
   ]
  },
  {
   "cell_type": "code",
   "execution_count": 65,
   "metadata": {},
   "outputs": [],
   "source": [
    "# EXTRAIR TODAS AS PARADAS\n",
    "path = gerar_path(base_url, categoria, metodo, sufix_parametro)\n",
    "paradas = session.get(path)\n",
    "paradas_encontradas = paradas.json()"
   ]
  },
  {
   "cell_type": "code",
   "execution_count": 66,
   "metadata": {},
   "outputs": [],
   "source": [
    "# SALVAR ARQUIVO JSON\n",
    "caminho_json = 'paradas_encontradas.json'\n",
    "\n",
    "with open(caminho_json, 'w', encoding='utf-8') as f:\n",
    "    json.dump(paradas_encontradas, f, ensure_ascii=False, indent=4)"
   ]
  },
  {
   "cell_type": "code",
   "execution_count": 67,
   "metadata": {},
   "outputs": [],
   "source": [
    "# SALVAR ARQUIVO EXCEL\n",
    "df_paradas_encontradas = pd.DataFrame(paradas_encontradas)\n",
    "df_paradas_encontradas.to_excel('paradas_encontradas.xlsx', index=False)"
   ]
  }
 ],
 "metadata": {
  "kernelspec": {
   "display_name": "Python 3 (ipykernel)",
   "language": "python",
   "name": "python3"
  },
  "language_info": {
   "codemirror_mode": {
    "name": "ipython",
    "version": 3
   },
   "file_extension": ".py",
   "mimetype": "text/x-python",
   "name": "python",
   "nbconvert_exporter": "python",
   "pygments_lexer": "ipython3",
   "version": "3.10.9"
  }
 },
 "nbformat": 4,
 "nbformat_minor": 4
}
