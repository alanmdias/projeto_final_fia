{
 "cells": [
  {
   "cell_type": "code",
   "execution_count": 3,
   "metadata": {},
   "outputs": [],
   "source": [
    "import requests\n",
    "import time\n",
    "import pandas as pd\n",
    "import json"
   ]
  },
  {
   "cell_type": "code",
   "execution_count": 5,
   "metadata": {},
   "outputs": [],
   "source": [
    "# Gerar lista com todas os números (não os códigos únicos) das linhas\n",
    "df_gtfs_linhas = pd.read_csv(r'gtfs/raw/routes.txt')\n",
    "numero_linhas = list(set(df_gtfs_linhas['route_id'].to_list()))"
   ]
  },
  {
   "cell_type": "code",
   "execution_count": 6,
   "metadata": {},
   "outputs": [
    {
     "name": "stdout",
     "output_type": "stream",
     "text": [
      "Autenticação realizada com sucesso!\n"
     ]
    }
   ],
   "source": [
    "h = time.strftime(\"%H:%M\")\n",
    "\n",
    "# Defina o token de acesso\n",
    "token = \"c7014553669e9dc53bf808f07a85f3fa0ac0eea3db93451487735b128b8e175e\"\n",
    "\n",
    "# Iniciar uma sessão\n",
    "session = requests.Session()\n",
    "\n",
    "# Autenticação na API\n",
    "auth_url = \"http://api.olhovivo.sptrans.com.br/v2.1/Login/Autenticar\"\n",
    "auth_params = {\"token\": token}\n",
    "auth_response = session.post(auth_url, params=auth_params)\n",
    "\n",
    "# Verifica se a autenticação foi bem-sucedida\n",
    "if auth_response.text == \"true\":\n",
    "    print(\"Autenticação realizada com sucesso!\")\n",
    "else:\n",
    "    print(\"Falha na autenticação:\", auth_response.text)"
   ]
  },
  {
   "cell_type": "code",
   "execution_count": 14,
   "metadata": {},
   "outputs": [],
   "source": [
    "teste = session.get(\"http://api.olhovivo.sptrans.com.br/v2.1/Linha/Buscar?termosBusca=\")"
   ]
  },
  {
   "cell_type": "code",
   "execution_count": 15,
   "metadata": {},
   "outputs": [
    {
     "data": {
      "text/plain": [
       "[]"
      ]
     },
     "execution_count": 15,
     "metadata": {},
     "output_type": "execute_result"
    }
   ],
   "source": [
    "teste.json()"
   ]
  },
  {
   "cell_type": "code",
   "execution_count": 6,
   "metadata": {},
   "outputs": [],
   "source": [
    "# Lista com todos os dicionários de cada linha\n",
    "linhas_encontradas = []\n",
    "nao_encontradas = []\n",
    "\n",
    "# Percorre todos os números de linhas da lista\n",
    "for numero in numero_linhas:\n",
    "    search_url = \"http://api.olhovivo.sptrans.com.br/v2.1/Linha/Buscar\"\n",
    "    search_params = {\"termosBusca\": str(numero)}\n",
    "    \n",
    "    # Faz a requisição GET para buscar informações da linha\n",
    "    search_response = session.get(search_url, params=search_params)\n",
    "    \n",
    "    # Verifica se a resposta foi bem-sucedida\n",
    "    if search_response.status_code == 200:\n",
    "        linhas = search_response.json()\n",
    "        linhas_encontradas.append(linhas)\n",
    "    else:\n",
    "        print(f\"Erro na requisição para a linha {numero}: {search_response.status_code}\")\n",
    "        nao_encontradas.append(numero)\n",
    "    \n",
    "    # Pausa de 1 segundo entre as requisições para evitar sobrecarga na API\n",
    "    time.sleep(1)"
   ]
  },
  {
   "cell_type": "code",
   "execution_count": 25,
   "metadata": {},
   "outputs": [],
   "source": [
    "caminho_json = 'linhas_encontradas.json'\n",
    "\n",
    "with open(caminho_json, 'w', encoding='utf-8') as f:\n",
    "    json.dump(linhas_encontradas, f, ensure_ascii=False, indent=4)"
   ]
  },
  {
   "cell_type": "code",
   "execution_count": 36,
   "metadata": {},
   "outputs": [],
   "source": [
    "# Supomos que a lista 'linhas_encontradas' contém várias sublistas (conforme o exemplo anterior)\n",
    "# Vamos achatá-la para uma lista de dicionários única\n",
    "linhas_encontradas_flat = [linha for sublist in linhas_encontradas for linha in sublist]"
   ]
  },
  {
   "cell_type": "code",
   "execution_count": 39,
   "metadata": {
    "scrolled": true
   },
   "outputs": [],
   "source": [
    "df_linhas_encontradas = pd.DataFrame(linhas_encontradas_flat)"
   ]
  },
  {
   "cell_type": "code",
   "execution_count": 43,
   "metadata": {},
   "outputs": [],
   "source": [
    "df_linhas_encontradas.sort_values('cl').to_excel('linhas_encontradas.xlsx', index=False)"
   ]
  },
  {
   "cell_type": "code",
   "execution_count": null,
   "metadata": {},
   "outputs": [],
   "source": []
  },
  {
   "cell_type": "code",
   "execution_count": null,
   "metadata": {},
   "outputs": [],
   "source": []
  },
  {
   "cell_type": "code",
   "execution_count": null,
   "metadata": {},
   "outputs": [],
   "source": [
    "#### FUNÇÃO DO PROFESSOR\n",
    "\n",
    "url = \"...\" # = url base\"\n",
    "r = session.post(url+\"Login/Autenticar?token=\"+token)\n",
    "\n",
    "def _get(path):\n",
    "    response = session.get(url + path)\n",
    "    data = response.json()\n",
    "    return data\n",
    "\n",
    "line = _get(\"Posicao\")\n",
    "j = json.dumps(line, ensure_ascii=False)\n",
    "data = json.loads(j)\n",
    "print(data)\n",
    "print(len(data['l']))\n",
    "for i in data['l']:\n",
    "    print(i)"
   ]
  },
  {
   "cell_type": "code",
   "execution_count": null,
   "metadata": {},
   "outputs": [],
   "source": []
  },
  {
   "cell_type": "code",
   "execution_count": null,
   "metadata": {},
   "outputs": [],
   "source": [
    "# Defina o token de acesso\n",
    "token = \"c7014553669e9dc53bf808f07a85f3fa0ac0eea3db93451487735b128b8e175e\"\n",
    "\n",
    "# Lista de números de linhas (aqui você insere a sua lista com mais de 1000 números)\n",
    "numeros_de_linhas = list_linhas[0:10]  # Exemplo, insira aqui sua lista de linhas\n",
    "\n",
    "# Iniciar uma sessão\n",
    "session = requests.Session()\n",
    "\n",
    "# Autenticação na API\n",
    "auth_url = \"http://api.olhovivo.sptrans.com.br/v2.1/Login/Autenticar\"\n",
    "auth_params = {\"token\": token}\n",
    "auth_response = session.post(auth_url, params=auth_params)\n",
    "\n",
    "# Verifica se a autenticação foi bem-sucedida\n",
    "if auth_response.text == \"true\":\n",
    "    print(\"Autenticação realizada com sucesso!\")\n",
    "    \n",
    "    # Percorre todos os números de linhas da lista\n",
    "    for numero in numeros_de_linhas:\n",
    "        search_url = \"http://api.olhovivo.sptrans.com.br/v2.1/Linha/Buscar\"\n",
    "        search_params = {\"termosBusca\": str(numero)}\n",
    "        \n",
    "        # Faz a requisição GET para buscar informações da linha\n",
    "        search_response = session.get(search_url, params=search_params)\n",
    "        \n",
    "        # Verifica se a resposta foi bem-sucedida\n",
    "        if search_response.status_code == 200:\n",
    "            linhas = search_response.json()\n",
    "            if linhas:\n",
    "                #for linha in linhas:\n",
    "                    #print(f\"Código da linha (cl): {linha['cl']}\")\n",
    "                    #print(f\"Linha circular (lc): {'Sim' if linha['lc'] else 'Não'}\")\n",
    "                    #print(f\"Letreiro numérico (lt): {linha['lt']}\")\n",
    "                    #print(f\"Modo de operação (tl): {linha['tl']}\")\n",
    "                    #print(f\"Sentido (sl): {'Principal -> Secundário' if linha['sl'] == 1 else 'Secundário -> Principal'}\")\n",
    "                    #print(f\"Descrição terminal principal (tp): {linha['tp']}\")\n",
    "                    #print(f\"Descrição terminal secundário (ts): {linha['ts']}\")\n",
    "                    #print(\"-\" * 50)\n",
    "            else:\n",
    "                print(f\"Nenhuma informação encontrada para a linha: {numero}\")\n",
    "        else:\n",
    "            print(f\"Erro na requisição para a linha {numero}: {search_response.status_code}\")\n",
    "        \n",
    "        # Pausa de 1 segundo entre as requisições para evitar sobrecarga na API\n",
    "        time.sleep(1)\n",
    "else:\n",
    "    print(\"Falha na autenticação:\", auth_response.text)"
   ]
  },
  {
   "cell_type": "code",
   "execution_count": null,
   "metadata": {},
   "outputs": [],
   "source": []
  }
 ],
 "metadata": {
  "kernelspec": {
   "display_name": "Python 3",
   "language": "python",
   "name": "python3"
  },
  "language_info": {
   "codemirror_mode": {
    "name": "ipython",
    "version": 3
   },
   "file_extension": ".py",
   "mimetype": "text/x-python",
   "name": "python",
   "nbconvert_exporter": "python",
   "pygments_lexer": "ipython3",
   "version": "3.10.9"
  }
 },
 "nbformat": 4,
 "nbformat_minor": 4
}
