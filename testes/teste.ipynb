{
 "cells": [
  {
   "cell_type": "code",
   "execution_count": 27,
   "metadata": {},
   "outputs": [],
   "source": [
    "import requests\n",
    "import pandas as pd"
   ]
  },
  {
   "cell_type": "code",
   "execution_count": 24,
   "metadata": {},
   "outputs": [],
   "source": []
  },
  {
   "cell_type": "code",
   "execution_count": 38,
   "metadata": {},
   "outputs": [],
   "source": []
  },
  {
   "cell_type": "code",
   "execution_count": null,
   "metadata": {},
   "outputs": [],
   "source": []
  },
  {
   "cell_type": "code",
   "execution_count": null,
   "metadata": {},
   "outputs": [],
   "source": []
  },
  {
   "cell_type": "code",
   "execution_count": null,
   "metadata": {},
   "outputs": [],
   "source": []
  },
  {
   "cell_type": "code",
   "execution_count": null,
   "metadata": {},
   "outputs": [],
   "source": []
  },
  {
   "cell_type": "code",
   "execution_count": 113,
   "metadata": {
    "scrolled": true
   },
   "outputs": [
    {
     "data": {
      "text/plain": [
       "['1012-10',\n",
       " '1012-21',\n",
       " '1014-10',\n",
       " '1015-10',\n",
       " '1016-10',\n",
       " '1017-10',\n",
       " '1018-10',\n",
       " '1019-10',\n",
       " '1020-10',\n",
       " '1021-10']"
      ]
     },
     "execution_count": 113,
     "metadata": {},
     "output_type": "execute_result"
    }
   ],
   "source": [
    "list_linhas[0:10]"
   ]
  },
  {
   "cell_type": "code",
   "execution_count": null,
   "metadata": {},
   "outputs": [],
   "source": []
  },
  {
   "cell_type": "code",
   "execution_count": 30,
   "metadata": {},
   "outputs": [
    {
     "name": "stdout",
     "output_type": "stream",
     "text": [
      "Autenticação realizada com sucesso!\n"
     ]
    }
   ],
   "source": [
    "# Defina o token de acesso que você possui\n",
    "token = \"c7014553669e9dc53bf808f07a85f3fa0ac0eea3db93451487735b128b8e175e\"\n",
    "\n",
    "# URL para autenticação\n",
    "auth_url = \"http://api.olhovivo.sptrans.com.br/v2.1/Login/Autenticar\"\n",
    "\n",
    "# Parâmetros de autenticação\n",
    "auth_params = {\"token\": token}\n",
    "\n",
    "# Faz a requisição POST para autenticar\n",
    "response = requests.post(auth_url, params=params)\n",
    "\n",
    "# Verifica se a autenticação foi bem-sucedida\n",
    "if response.text == \"true\":\n",
    "    print(\"Autenticação realizada com sucesso!\")\n",
    "else:\n",
    "    print(\"Falha na autenticação:\", response.text)"
   ]
  },
  {
   "cell_type": "code",
   "execution_count": null,
   "metadata": {},
   "outputs": [],
   "source": [
    "base_url = \"http://api.olhovivo.sptrans.com.br/v2.1\"\n",
    "path_auth = \"/Login/Autenticar\"\n",
    "path_linhas_buscar = \"/Linhas/Buscar\"\n",
    "path_linhas_sentido = \"/Linhas/BuscarLinhaSentido\""
   ]
  },
  {
   "cell_type": "code",
   "execution_count": 31,
   "metadata": {},
   "outputs": [],
   "source": [
    "# Iniciar uma sessão\n",
    "session = requests.Session()\n",
    "auth_response = session.post(auth_url, params=auth_params)\n"
   ]
  },
  {
   "cell_type": "code",
   "execution_count": 114,
   "metadata": {},
   "outputs": [],
   "source": [
    "# URL para buscar a linha de ônibus\n",
    "search_url = \"http://api.olhovivo.sptrans.com.br/v2.1/Linha/Buscar/\"\n",
    "\n",
    "# Parâmetro de busca: por exemplo, buscar pela linha \"8000\"\n",
    "termos_busca = \"1012-10\"\n",
    "search_params = {\"termosBusca\": termos_busca}\n",
    "\n",
    "# Faz a requisição GET para buscar informações da linha\n",
    "search_response = session.get(search_url, params=search_params)\n"
   ]
  },
  {
   "cell_type": "code",
   "execution_count": 115,
   "metadata": {
    "scrolled": true
   },
   "outputs": [],
   "source": [
    "teste = search_response.json()"
   ]
  },
  {
   "cell_type": "code",
   "execution_count": 116,
   "metadata": {
    "scrolled": true
   },
   "outputs": [
    {
     "data": {
      "text/plain": [
       "[{'cl': 35254,\n",
       "  'lc': False,\n",
       "  'lt': '1012',\n",
       "  'sl': 2,\n",
       "  'tl': 10,\n",
       "  'tp': 'JD. MONTE BELO',\n",
       "  'ts': 'TERM. JD. BRITANIA'},\n",
       " {'cl': 2486,\n",
       "  'lc': False,\n",
       "  'lt': '1012',\n",
       "  'sl': 1,\n",
       "  'tl': 10,\n",
       "  'tp': 'JD. MONTE BELO',\n",
       "  'ts': 'TERM. JD. BRITANIA'}]"
      ]
     },
     "execution_count": 116,
     "metadata": {},
     "output_type": "execute_result"
    }
   ],
   "source": [
    "teste"
   ]
  },
  {
   "cell_type": "code",
   "execution_count": 100,
   "metadata": {},
   "outputs": [],
   "source": [
    "linhas = [linha['lt'] for linha in teste]"
   ]
  },
  {
   "cell_type": "code",
   "execution_count": 101,
   "metadata": {},
   "outputs": [
    {
     "data": {
      "text/plain": [
       "216"
      ]
     },
     "execution_count": 101,
     "metadata": {},
     "output_type": "execute_result"
    }
   ],
   "source": [
    "len(linhas)"
   ]
  },
  {
   "cell_type": "code",
   "execution_count": null,
   "metadata": {},
   "outputs": [],
   "source": []
  },
  {
   "cell_type": "code",
   "execution_count": null,
   "metadata": {},
   "outputs": [],
   "source": []
  },
  {
   "cell_type": "code",
   "execution_count": null,
   "metadata": {},
   "outputs": [],
   "source": []
  },
  {
   "cell_type": "code",
   "execution_count": null,
   "metadata": {},
   "outputs": [],
   "source": [
    "import requests\n",
    "\n",
    "# Defina o token de acesso\n",
    "token = \"c7014553669e9dc53bf808f07a85f3fa0ac0eea3db93451487735b128b8e175e\"\n",
    "\n",
    "# Iniciar uma sessão\n",
    "session = requests.Session()\n",
    "\n",
    "# Autenticação na API\n",
    "auth_url = \"http://api.olhovivo.sptrans.com.br/v2.1/Login/Autenticar\"\n",
    "auth_params = {\"token\": token}\n",
    "auth_response = session.post(auth_url, params=auth_params)\n",
    "\n",
    "# Verifica se a autenticação foi bem-sucedida\n",
    "if auth_response.text == \"true\":\n",
    "    print(\"Autenticação realizada com sucesso!\")\n",
    "    \n",
    "    # URL para buscar a linha de ônibus\n",
    "    search_url = \"http://api.olhovivo.sptrans.com.br/v2.1/Linha/Buscar\"\n",
    "    \n",
    "    # Parâmetro de busca: por exemplo, buscar pela linha \"8000\"\n",
    "    termos_busca = \"8000\"\n",
    "    search_params = {\"termosBusca\": termos_busca}\n",
    "    \n",
    "    # Faz a requisição GET para buscar informações da linha\n",
    "    search_response = session.get(search_url, params=search_params)\n",
    "    \n",
    "    # Verifica se a resposta foi bem-sucedida\n",
    "    if search_response.status_code == 200:\n",
    "        # Exibe o conteúdo da resposta (linhas encontradas)\n",
    "        linhas = search_response.json()\n",
    "        for linha in linhas:\n",
    "            print(f\"Código da linha (cl): {linha['cl']}\")\n",
    "            print(f\"Linha circular (lc): {'Sim' if linha['lc'] else 'Não'}\")\n",
    "            print(f\"Letreiro numérico (lt): {linha['lt']}\")\n",
    "            print(f\"Modo de operação (tl): {linha['tl']}\")\n",
    "            print(f\"Sentido (sl): {'Principal -> Secundário' if linha['sl'] == 1 else 'Secundário -> Principal'}\")\n",
    "            print(f\"Descrição terminal principal (tp): {linha['tp']}\")\n",
    "            print(f\"Descrição terminal secundário (ts): {linha['ts']}\")\n",
    "            print(\"-\" * 50)\n",
    "    else:\n",
    "        print(\"Erro na requisição:\", search_response.status_code)\n",
    "else:\n",
    "    print(\"Falha na autenticação:\", auth_response.text)"
   ]
  },
  {
   "cell_type": "code",
   "execution_count": null,
   "metadata": {},
   "outputs": [],
   "source": []
  }
 ],
 "metadata": {
  "kernelspec": {
   "display_name": "Python 3 (ipykernel)",
   "language": "python",
   "name": "python3"
  },
  "language_info": {
   "codemirror_mode": {
    "name": "ipython",
    "version": 3
   },
   "file_extension": ".py",
   "mimetype": "text/x-python",
   "name": "python",
   "nbconvert_exporter": "python",
   "pygments_lexer": "ipython3",
   "version": "3.10.9"
  }
 },
 "nbformat": 4,
 "nbformat_minor": 4
}
